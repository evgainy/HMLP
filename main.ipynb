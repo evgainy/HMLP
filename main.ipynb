{
 "cells": [
  {
   "cell_type": "markdown",
   "metadata": {
    "collapsed": false
   },
   "source": [
    "## Изучение данных"
   ]
  },
  {
   "cell_type": "code",
   "execution_count": 1,
   "metadata": {
    "collapsed": false
   },
   "outputs": [],
   "source": [
    "import pandas as pd\n",
    "import matplotlib.pyplot as plt\n",
    "import seaborn as sns"
   ]
  },
  {
   "cell_type": "markdown",
   "metadata": {
    "collapsed": false
   },
   "source": [
    "Чтение данных"
   ]
  },
  {
   "cell_type": "code",
   "execution_count": 2,
   "metadata": {
    "collapsed": false
   },
   "outputs": [
    {
     "data": {
      "text/html": [
       "<div>\n",
       "<style scoped>\n",
       "    .dataframe tbody tr th:only-of-type {\n",
       "        vertical-align: middle;\n",
       "    }\n",
       "\n",
       "    .dataframe tbody tr th {\n",
       "        vertical-align: top;\n",
       "    }\n",
       "\n",
       "    .dataframe thead th {\n",
       "        text-align: right;\n",
       "    }\n",
       "</style>\n",
       "<table border=\"1\" class=\"dataframe\">\n",
       "  <thead>\n",
       "    <tr style=\"text-align: right;\">\n",
       "      <th></th>\n",
       "      <th>description</th>\n",
       "      <th>transcription</th>\n",
       "      <th>sample_name</th>\n",
       "      <th>medical_specialty</th>\n",
       "      <th>keywords</th>\n",
       "    </tr>\n",
       "  </thead>\n",
       "  <tbody>\n",
       "    <tr>\n",
       "      <th>0</th>\n",
       "      <td>Patient having severe sinusitis about two to t...</td>\n",
       "      <td>HISTORY:,  I had the pleasure of meeting and e...</td>\n",
       "      <td>Chronic Sinusitis</td>\n",
       "      <td>Allergy / Immunology</td>\n",
       "      <td>NaN</td>\n",
       "    </tr>\n",
       "    <tr>\n",
       "      <th>1</th>\n",
       "      <td>A female for a complete physical and follow up...</td>\n",
       "      <td>SUBJECTIVE: , This is a 42-year-old white fema...</td>\n",
       "      <td>Followup on Asthma</td>\n",
       "      <td>Allergy / Immunology</td>\n",
       "      <td>NaN</td>\n",
       "    </tr>\n",
       "    <tr>\n",
       "      <th>2</th>\n",
       "      <td>Mother states he has been wheezing and coughing.</td>\n",
       "      <td>CHIEF COMPLAINT: , This 5-year-old male presen...</td>\n",
       "      <td>Asthma in a 5-year-old</td>\n",
       "      <td>Allergy / Immunology</td>\n",
       "      <td>NaN</td>\n",
       "    </tr>\n",
       "    <tr>\n",
       "      <th>3</th>\n",
       "      <td>Acute allergic reaction, etiology uncertain, h...</td>\n",
       "      <td>HISTORY: , A 34-year-old male presents today s...</td>\n",
       "      <td>Allergy Evaluation Consult</td>\n",
       "      <td>Allergy / Immunology</td>\n",
       "      <td>NaN</td>\n",
       "    </tr>\n",
       "    <tr>\n",
       "      <th>4</th>\n",
       "      <td>The patient died of a pulmonary embolism, the ...</td>\n",
       "      <td>SUMMARY OF CLINICAL HISTORY:,  The patient was...</td>\n",
       "      <td>Autopsy - 8</td>\n",
       "      <td>Autopsy</td>\n",
       "      <td>NaN</td>\n",
       "    </tr>\n",
       "    <tr>\n",
       "      <th>...</th>\n",
       "      <td>...</td>\n",
       "      <td>...</td>\n",
       "      <td>...</td>\n",
       "      <td>...</td>\n",
       "      <td>...</td>\n",
       "    </tr>\n",
       "    <tr>\n",
       "      <th>4309</th>\n",
       "      <td>Patient with a diagnosis of pancreatitis, deve...</td>\n",
       "      <td>HISTORY:,  The patient was in the intensive ca...</td>\n",
       "      <td>Nephrology Consultation - 3</td>\n",
       "      <td>Consult - History and Phy.</td>\n",
       "      <td>consult - history and phy., intubated, consult...</td>\n",
       "    </tr>\n",
       "    <tr>\n",
       "      <th>4310</th>\n",
       "      <td>The patient with recurrent nongranulomatous an...</td>\n",
       "      <td>PAST MEDICAL HISTORY: , Significant for GERD, ...</td>\n",
       "      <td>Uveitis</td>\n",
       "      <td>Consult - History and Phy.</td>\n",
       "      <td>consult - history and phy., iritis, nongranulo...</td>\n",
       "    </tr>\n",
       "    <tr>\n",
       "      <th>4311</th>\n",
       "      <td>Consultation because of irregular periods and ...</td>\n",
       "      <td>She started her periods at age 13.  She is com...</td>\n",
       "      <td>OB/GYN Consultation - 3</td>\n",
       "      <td>Consult - History and Phy.</td>\n",
       "      <td>consult - history and phy., irregular periods,...</td>\n",
       "    </tr>\n",
       "    <tr>\n",
       "      <th>4312</th>\n",
       "      <td>Pneumatosis coli in the cecum.  Possible ische...</td>\n",
       "      <td>REASON FOR CONSULTATION: , Pneumatosis coli in...</td>\n",
       "      <td>Ischemic Cecum - Consult</td>\n",
       "      <td>Consult - History and Phy.</td>\n",
       "      <td>consult - history and phy., ischemic cecum, me...</td>\n",
       "    </tr>\n",
       "    <tr>\n",
       "      <th>4313</th>\n",
       "      <td>Patient started out having toothache, now radi...</td>\n",
       "      <td>CHIEF COMPLAINT: , Jaw pain.,HISTORY OF PRESEN...</td>\n",
       "      <td>Jaw Pain - ER Visit</td>\n",
       "      <td>Consult - History and Phy.</td>\n",
       "      <td>consult - history and phy., jaw pain, dental a...</td>\n",
       "    </tr>\n",
       "  </tbody>\n",
       "</table>\n",
       "<p>4314 rows × 5 columns</p>\n",
       "</div>"
      ],
      "text/plain": [
       "                                            description  \\\n",
       "0     Patient having severe sinusitis about two to t...   \n",
       "1     A female for a complete physical and follow up...   \n",
       "2      Mother states he has been wheezing and coughing.   \n",
       "3     Acute allergic reaction, etiology uncertain, h...   \n",
       "4     The patient died of a pulmonary embolism, the ...   \n",
       "...                                                 ...   \n",
       "4309  Patient with a diagnosis of pancreatitis, deve...   \n",
       "4310  The patient with recurrent nongranulomatous an...   \n",
       "4311  Consultation because of irregular periods and ...   \n",
       "4312  Pneumatosis coli in the cecum.  Possible ische...   \n",
       "4313  Patient started out having toothache, now radi...   \n",
       "\n",
       "                                          transcription  \\\n",
       "0     HISTORY:,  I had the pleasure of meeting and e...   \n",
       "1     SUBJECTIVE: , This is a 42-year-old white fema...   \n",
       "2     CHIEF COMPLAINT: , This 5-year-old male presen...   \n",
       "3     HISTORY: , A 34-year-old male presents today s...   \n",
       "4     SUMMARY OF CLINICAL HISTORY:,  The patient was...   \n",
       "...                                                 ...   \n",
       "4309  HISTORY:,  The patient was in the intensive ca...   \n",
       "4310  PAST MEDICAL HISTORY: , Significant for GERD, ...   \n",
       "4311  She started her periods at age 13.  She is com...   \n",
       "4312  REASON FOR CONSULTATION: , Pneumatosis coli in...   \n",
       "4313  CHIEF COMPLAINT: , Jaw pain.,HISTORY OF PRESEN...   \n",
       "\n",
       "                      sample_name           medical_specialty  \\\n",
       "0               Chronic Sinusitis        Allergy / Immunology   \n",
       "1              Followup on Asthma        Allergy / Immunology   \n",
       "2          Asthma in a 5-year-old        Allergy / Immunology   \n",
       "3      Allergy Evaluation Consult        Allergy / Immunology   \n",
       "4                     Autopsy - 8                     Autopsy   \n",
       "...                           ...                         ...   \n",
       "4309  Nephrology Consultation - 3  Consult - History and Phy.   \n",
       "4310                      Uveitis  Consult - History and Phy.   \n",
       "4311      OB/GYN Consultation - 3  Consult - History and Phy.   \n",
       "4312     Ischemic Cecum - Consult  Consult - History and Phy.   \n",
       "4313          Jaw Pain - ER Visit  Consult - History and Phy.   \n",
       "\n",
       "                                               keywords  \n",
       "0                                                   NaN  \n",
       "1                                                   NaN  \n",
       "2                                                   NaN  \n",
       "3                                                   NaN  \n",
       "4                                                   NaN  \n",
       "...                                                 ...  \n",
       "4309  consult - history and phy., intubated, consult...  \n",
       "4310  consult - history and phy., iritis, nongranulo...  \n",
       "4311  consult - history and phy., irregular periods,...  \n",
       "4312  consult - history and phy., ischemic cecum, me...  \n",
       "4313  consult - history and phy., jaw pain, dental a...  \n",
       "\n",
       "[4314 rows x 5 columns]"
      ]
     },
     "execution_count": 2,
     "metadata": {},
     "output_type": "execute_result"
    }
   ],
   "source": [
    "raw_data = pd.read_csv('data/medical_cases.csv')\n",
    "raw_data"
   ]
  },
  {
   "cell_type": "markdown",
   "metadata": {
    "collapsed": false
   },
   "source": [
    "Посчет слов и предложений"
   ]
  },
  {
   "cell_type": "code",
   "execution_count": 3,
   "metadata": {
    "collapsed": false
   },
   "outputs": [
    {
     "name": "stderr",
     "output_type": "stream",
     "text": [
      "[nltk_data] Downloading package punkt to\n",
      "[nltk_data]     /home/eshevlyakov/nltk_data...\n",
      "[nltk_data]   Package punkt is already up-to-date!\n",
      "[nltk_data] Downloading package wordnet to\n",
      "[nltk_data]     /home/eshevlyakov/nltk_data...\n",
      "[nltk_data]   Package wordnet is already up-to-date!\n",
      "[nltk_data] Downloading package omw-1.4 to\n",
      "[nltk_data]     /home/eshevlyakov/nltk_data...\n",
      "[nltk_data]   Package omw-1.4 is already up-to-date!\n",
      "[nltk_data] Downloading package stopwords to\n",
      "[nltk_data]     /home/eshevlyakov/nltk_data...\n",
      "[nltk_data]   Package stopwords is already up-to-date!\n"
     ]
    },
    {
     "name": "stdout",
     "output_type": "stream",
     "text": [
      "Number of sentences in transcriptions column: 163198\n",
      "Number of unique words in transcriptions column: 35400\n"
     ]
    }
   ],
   "source": [
    "from src.data_cleaning import count_sentences, count_words\n",
    "\n",
    "\n",
    "medical_transcriptions = raw_data[raw_data['transcription'].notna()]\n",
    "\n",
    "sent_cnt = count_sentences(medical_transcriptions.values.tolist())\n",
    "word_count = count_words(medical_transcriptions.values.tolist())\n",
    "\n",
    "print(\n",
    "    'Number of sentences in transcriptions column: %d' % sent_cnt,\n",
    "    'Number of unique words in transcriptions column: %d' % word_count,\n",
    "    sep='\\n',\n",
    ")"
   ]
  },
  {
   "cell_type": "markdown",
   "metadata": {
    "collapsed": false
   },
   "source": [
    "Просмотр категорий"
   ]
  },
  {
   "cell_type": "code",
   "execution_count": 4,
   "metadata": {
    "collapsed": false
   },
   "outputs": [
    {
     "name": "stdout",
     "output_type": "stream",
     "text": [
      "Original Categories:\n",
      "Category 0: Allergy / Immunology 14\n",
      "Category 1: Autopsy 16\n",
      "Category 2: Cardiovascular / Pulmonary 742\n",
      "Category 3: Consult - History and Phy. 915\n",
      "Category 4: Cosmetic / Plastic Surgery 29\n",
      "Category 5: Dentistry 30\n",
      "Category 6: Dermatology 34\n",
      "Category 7: Diets and Nutritions 10\n",
      "Category 8: ENT - Otolaryngology 80\n",
      "Category 9: Emergency Room Reports 121\n",
      "Category 10: Endocrinology 23\n",
      "Category 11: Gastroenterology 222\n",
      "Category 12: General Medicine 347\n",
      "Category 13: Hematology - Oncology 120\n",
      "Category 14: Hospice - Palliative Care 7\n",
      "Category 15: Lab Medicine - Pathology 8\n",
      "Category 16: Nephrology 71\n",
      "Category 17: Neurology 282\n",
      "Category 18: Neurosurgery 109\n",
      "Category 19: Obstetrics / Gynecology 182\n",
      "Category 20: Office Notes 60\n",
      "Category 21: Ophthalmology 66\n",
      "Category 22: Orthopedic 408\n",
      "Category 23: Pediatrics - Neonatal 64\n",
      "Category 24: Physical Medicine - Rehab 20\n",
      "Category 25: Podiatry 10\n",
      "Category 26: Psychiatry / Psychology 68\n",
      "Category 27: Radiology 50\n",
      "Category 28: Rheumatology 6\n",
      "Category 29: Sleep Medicine 4\n",
      "Category 30: Speech - Language 2\n",
      "Category 31: Surgery 160\n",
      "Category 32: Urology 34\n"
     ]
    }
   ],
   "source": [
    "data_categories = medical_transcriptions.groupby(medical_transcriptions['medical_specialty'])\n",
    "\n",
    "print('Original Categories:')\n",
    "for i, k in enumerate(data_categories):\n",
    "    c_name, c_data = k\n",
    "    print('Category %d: %s %d' % (i, c_name, len(c_data)))"
   ]
  },
  {
   "cell_type": "markdown",
   "metadata": {
    "collapsed": false
   },
   "source": [
    "## Чистка данных"
   ]
  },
  {
   "cell_type": "markdown",
   "metadata": {
    "collapsed": false
   },
   "source": [
    "Удаление редких категорий"
   ]
  },
  {
   "cell_type": "code",
   "execution_count": 5,
   "metadata": {
    "collapsed": false
   },
   "outputs": [
    {
     "data": {
      "image/png": "[encoded data removed]",
      "text/plain": [
       "<Figure size 640x480 with 1 Axes>"
      ]
     },
     "metadata": {},
     "output_type": "display_data"
    }
   ],
   "source": [
    "data_categories = data_categories.filter(lambda x:x.shape[0] > 50)\n",
    "final_data_categories = data_categories.groupby(data_categories['medical_specialty'])\n",
    "\n",
    "plt.figure()\n",
    "sns.countplot(data=data_categories, x='medical_specialty', palette ='coolwarm')\n",
    "plt.xticks(rotation=70)\n",
    "plt.show()"
   ]
  },
  {
   "cell_type": "markdown",
   "metadata": {
    "collapsed": false
   },
   "source": [
    "Удаление ненужных данных"
   ]
  },
  {
   "cell_type": "code",
   "execution_count": 6,
   "metadata": {
    "collapsed": false
   },
   "outputs": [
    {
     "data": {
      "text/html": [
       "<div>\n",
       "<style scoped>\n",
       "    .dataframe tbody tr th:only-of-type {\n",
       "        vertical-align: middle;\n",
       "    }\n",
       "\n",
       "    .dataframe tbody tr th {\n",
       "        vertical-align: top;\n",
       "    }\n",
       "\n",
       "    .dataframe thead th {\n",
       "        text-align: right;\n",
       "    }\n",
       "</style>\n",
       "<table border=\"1\" class=\"dataframe\">\n",
       "  <thead>\n",
       "    <tr style=\"text-align: right;\">\n",
       "      <th></th>\n",
       "      <th>transcription</th>\n",
       "      <th>medical_specialty</th>\n",
       "    </tr>\n",
       "  </thead>\n",
       "  <tbody>\n",
       "    <tr>\n",
       "      <th>12</th>\n",
       "      <td>REASON FOR CONSULTATION:,  Ventricular ectopy ...</td>\n",
       "      <td>Cardiovascular / Pulmonary</td>\n",
       "    </tr>\n",
       "    <tr>\n",
       "      <th>13</th>\n",
       "      <td>CHIEF COMPLAINT:, \"Trouble breathing.\",HISTORY...</td>\n",
       "      <td>Cardiovascular / Pulmonary</td>\n",
       "    </tr>\n",
       "    <tr>\n",
       "      <th>14</th>\n",
       "      <td>EXAM: , Transesophageal echocardiogram and dir...</td>\n",
       "      <td>Cardiovascular / Pulmonary</td>\n",
       "    </tr>\n",
       "    <tr>\n",
       "      <th>15</th>\n",
       "      <td>HISTORY:  ,I had the pleasure of meeting and e...</td>\n",
       "      <td>Cardiovascular / Pulmonary</td>\n",
       "    </tr>\n",
       "    <tr>\n",
       "      <th>16</th>\n",
       "      <td>On review of systems, the patient admits to hy...</td>\n",
       "      <td>Cardiovascular / Pulmonary</td>\n",
       "    </tr>\n",
       "    <tr>\n",
       "      <th>...</th>\n",
       "      <td>...</td>\n",
       "      <td>...</td>\n",
       "    </tr>\n",
       "    <tr>\n",
       "      <th>4309</th>\n",
       "      <td>HISTORY:,  The patient was in the intensive ca...</td>\n",
       "      <td>Consult - History and Phy.</td>\n",
       "    </tr>\n",
       "    <tr>\n",
       "      <th>4310</th>\n",
       "      <td>PAST MEDICAL HISTORY: , Significant for GERD, ...</td>\n",
       "      <td>Consult - History and Phy.</td>\n",
       "    </tr>\n",
       "    <tr>\n",
       "      <th>4311</th>\n",
       "      <td>She started her periods at age 13.  She is com...</td>\n",
       "      <td>Consult - History and Phy.</td>\n",
       "    </tr>\n",
       "    <tr>\n",
       "      <th>4312</th>\n",
       "      <td>REASON FOR CONSULTATION: , Pneumatosis coli in...</td>\n",
       "      <td>Consult - History and Phy.</td>\n",
       "    </tr>\n",
       "    <tr>\n",
       "      <th>4313</th>\n",
       "      <td>CHIEF COMPLAINT: , Jaw pain.,HISTORY OF PRESEN...</td>\n",
       "      <td>Consult - History and Phy.</td>\n",
       "    </tr>\n",
       "  </tbody>\n",
       "</table>\n",
       "<p>4017 rows × 2 columns</p>\n",
       "</div>"
      ],
      "text/plain": [
       "                                          transcription  \\\n",
       "12    REASON FOR CONSULTATION:,  Ventricular ectopy ...   \n",
       "13    CHIEF COMPLAINT:, \"Trouble breathing.\",HISTORY...   \n",
       "14    EXAM: , Transesophageal echocardiogram and dir...   \n",
       "15    HISTORY:  ,I had the pleasure of meeting and e...   \n",
       "16    On review of systems, the patient admits to hy...   \n",
       "...                                                 ...   \n",
       "4309  HISTORY:,  The patient was in the intensive ca...   \n",
       "4310  PAST MEDICAL HISTORY: , Significant for GERD, ...   \n",
       "4311  She started her periods at age 13.  She is com...   \n",
       "4312  REASON FOR CONSULTATION: , Pneumatosis coli in...   \n",
       "4313  CHIEF COMPLAINT: , Jaw pain.,HISTORY OF PRESEN...   \n",
       "\n",
       "               medical_specialty  \n",
       "12    Cardiovascular / Pulmonary  \n",
       "13    Cardiovascular / Pulmonary  \n",
       "14    Cardiovascular / Pulmonary  \n",
       "15    Cardiovascular / Pulmonary  \n",
       "16    Cardiovascular / Pulmonary  \n",
       "...                          ...  \n",
       "4309  Consult - History and Phy.  \n",
       "4310  Consult - History and Phy.  \n",
       "4311  Consult - History and Phy.  \n",
       "4312  Consult - History and Phy.  \n",
       "4313  Consult - History and Phy.  \n",
       "\n",
       "[4017 rows x 2 columns]"
      ]
     },
     "execution_count": 6,
     "metadata": {},
     "output_type": "execute_result"
    }
   ],
   "source": [
    "data = data_categories[['transcription', 'medical_specialty']]\n",
    "data = data.drop(data[data['transcription'].isna()].index)\n",
    "data"
   ]
  },
  {
   "cell_type": "markdown",
   "metadata": {
    "collapsed": false
   },
   "source": [
    "Просмотр транскрипций для обнаружения ненужных элементов"
   ]
  },
  {
   "cell_type": "code",
   "execution_count": 7,
   "metadata": {
    "collapsed": false
   },
   "outputs": [
    {
     "name": "stdout",
     "output_type": "stream",
     "text": [
      "Transcription 1: PROTOCOL:,  Bruce.,PERTINENT MEDICATION: , None.,REASON FOR TEST:,  Chest pain.,PROCEDURE AND INTERPRETATION: ,1.  Baseline heart rate:  67.,2.  Baseline blood pressure:  150/86.,3.  Total time:  6 minute 51 seconds.,4.  METs:  10.1.,5.  Peak heart rate:  140.,6.  Percent of maximum-predicted heart rate:  90.,7.  Peak blood pressure:  200/92.,8.  Reason test terminated:  Shortness of breath and fatigue.,9.  Estimated aerobic capacity:  Average.,10. Heart rate response:  Normal.,11. Blood pressure response:  Hypertensive.,12. ST segment response:  Normal.,13. Chest pain:  None.,14. Symptoms:  None.,15. Arrhythmia:  None.,CONCLUSION:,1.  Average aerobic capacity.,2.  Normal heart rate and blood pressure response to exercise.,3.  No symptomatic electrocardiographic evidence of ischemia.,CONDITION: , Stable with normal vital signs.,DISPOSITION:  ,The patient was discharged home and was asymptomatic.,\n",
      "Transcription 2: IDENTIFYING DATA:,  This is a 40-year-old male seen today for a 90-day revocation admission.  He had been reported by his case manager as being noncompliant with medications, refusing oral or IM medications, became agitated, had to be taken to ABCD for evaluation, admitted at that time to auditory hallucinations and confusion and was committed for admission at this time.  He has a psychiatric history of schizophrenia, was previously admitted here at XYZ on 12/19/2009, had another voluntary admission in ABCD in 1998.,MEDICATIONS: , Listed as Invega and Risperdal.,ALLERGIES: , None known to medications.,PAST MEDICAL HISTORY:  ,The only identified problem in his chart is that he is being treated for hyperlipidemia with gemfibrozil.  The patient is unaware and cannot remember what medications he had been taking or whether he had been taking them at all as an outpatient.,FAMILY HISTORY: , Listed as unknown in the chart as far as other psychiatric illnesses.  The patient himself states that his parents are deceased and that he raised himself in the Philippines.,SOCIAL HISTORY:,  He immigrated to this country in 1984, although he lists himself as having a green card still at this time.  He states he lives on his own.  He is a single male with no history of marriage or children and that he had high school education.  His recreational drug use in the chart indicates that he has had a history of methamphetamines.  The patient denies this at this time.  He also denies current alcohol use.  He does smoke.  He is unable to tell me of any PCP.  He is in counseling service with his case manager being XYZ.,LEGAL HISTORY:  ,  He had an assault in December 2009, which led to his previous detention.  It is unknown whether he is under legal constraints at this time.,OBJECTIVE FINDINGS:  ,VITAL SIGNS: , Blood pressure is 125/75.  His weight is 197 with height 5 feet 4 inches.,GENERAL:,  He is cooperative, although disorganized and focusing entirely and telling me that he is here because there was some confusion in how he took his medications.  He does not endorse any voices at this time.,HEENT: , His head exam is normal with normal scalp.  HEENT is unremarkable.  Pupils equal and reactive to light and accommodation.  TMs are normal.,NECK:,  Unremarkable with no masses or tenderness.,CARDIOVASCULAR:,  Normal S1 and S2.  No murmurs.,LUNGS:,  Clear.,ABDOMEN:  ,Negative with no scars.,GU:  ,Not done.,RECTAL:,  Not done.,DERM:,  He does have a scarring of acne lesions, both face and back.,EXTREMITIES:,  Otherwise negative.,NEUROLOGIC: , Cranial nerves II through X normal.  Reflexes are normal and gait is unremarkable.,LABORATORY DATA: , His labs done at ABCD showed his CMP to be normal with an elevated white count of 17.2.  Chest x-ray was indicated as being done and normal as was a UA and he did apparently receive hydration in the hospital with IV fluids.,ASSESSMENT: , History of hyperlipidemia with elevated triglycerides.  We will maintain his gemfibrozil 600 b.i.d. and for health maintenance issues, we will also maintain just a vitamin daily and we will obtain recheck on his labs and lipid levels in one week after treatment is initiated.\n"
     ]
    }
   ],
   "source": [
    "print(\n",
    "    'Transcription 1: ' + data.iloc[5]['transcription'],\n",
    "    'Transcription 2: ' + data.iloc[125]['transcription'],\n",
    "    sep='\\n')"
   ]
  },
  {
   "cell_type": "markdown",
   "metadata": {
    "collapsed": false
   },
   "source": [
    "Удаление ненужных символов"
   ]
  },
  {
   "cell_type": "code",
   "execution_count": 8,
   "metadata": {
    "collapsed": false
   },
   "outputs": [],
   "source": [
    "from src.data_cleaning import clean_text\n",
    "\n",
    "\n",
    "transcriptions = data['transcription'].apply(clean_text)\n",
    "\n",
    "words = set()\n",
    "for transcription in transcriptions.iloc:\n",
    "    words.update(transcription.split(' '))"
   ]
  }
 ],
 "metadata": {
  "kernelspec": {
   "display_name": "Python 3.10.5 64-bit ('hmlp')",
   "language": "python",
   "name": "python3"
  },
  "language_info": {
   "codemirror_mode": {
    "name": "ipython",
    "version": 3
   },
   "file_extension": ".py",
   "mimetype": "text/x-python",
   "name": "python",
   "nbconvert_exporter": "python",
   "pygments_lexer": "ipython3",
   "version": "3.10.5"
  },
  "orig_nbformat": 4,
  "vscode": {
   "interpreter": {
    "hash": "ae26590178bcc1796c1c3fe293e11846502652c4eab8bf04e0f8a80463144661"
   }
  }
 },
 "nbformat": 4,
 "nbformat_minor": 2
}
